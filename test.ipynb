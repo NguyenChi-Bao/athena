{
 "cells": [
  {
   "cell_type": "code",
   "execution_count": 8,
   "metadata": {},
   "outputs": [],
   "source": [
    "import pandas as pd\n",
    "import numpy as np\n",
    "import matplotlib.pyplot as plt\n",
    "import scipy.stats as stat"
   ]
  },
  {
   "attachments": {},
   "cell_type": "markdown",
   "metadata": {},
   "source": [
    "PART 1 (Python Pandas)\n"
   ]
  },
  {
   "cell_type": "code",
   "execution_count": 9,
   "metadata": {},
   "outputs": [
    {
     "name": "stdout",
     "output_type": "stream",
     "text": [
      "<class 'pandas.core.frame.DataFrame'>\n",
      "RangeIndex: 20 entries, 0 to 19\n",
      "Data columns (total 7 columns):\n",
      " #   Column            Non-Null Count  Dtype         \n",
      "---  ------            --------------  -----         \n",
      " 0   ID                20 non-null     int64         \n",
      " 1   Name              20 non-null     object        \n",
      " 2   Sale Revenue      20 non-null     int64         \n",
      " 3   Operational Cost  20 non-null     int64         \n",
      " 4   Time              20 non-null     datetime64[ns]\n",
      " 5   City              20 non-null     object        \n",
      " 6   State             20 non-null     object        \n",
      "dtypes: datetime64[ns](1), int64(3), object(3)\n",
      "memory usage: 1.2+ KB\n"
     ]
    }
   ],
   "source": [
    "data = pd.read_excel(r'..\\athena_test\\data.xlsx')\n",
    "data.info()"
   ]
  },
  {
   "cell_type": "code",
   "execution_count": 10,
   "metadata": {},
   "outputs": [
    {
     "data": {
      "text/plain": [
       "Time\n",
       "2021-02-01    6\n",
       "2021-01-01    5\n",
       "2021-03-01    5\n",
       "2021-04-01    4\n",
       "Name: count, dtype: int64"
      ]
     },
     "execution_count": 10,
     "metadata": {},
     "output_type": "execute_result"
    }
   ],
   "source": [
    "data['Time'].value_counts()"
   ]
  },
  {
   "cell_type": "code",
   "execution_count": 11,
   "metadata": {},
   "outputs": [
    {
     "name": "stdout",
     "output_type": "stream",
     "text": [
      "Top 3 sale representatives with most average revenues gained\n",
      "3       Tan\n",
      "4    Taylor\n",
      "1       Joe\n",
      "Name: Name, dtype: object \n",
      "\n",
      "\n",
      "Top 3 sale representatives with most average profit gained\n",
      "4    Taylor\n",
      "3       Tan\n",
      "1       Joe\n",
      "Name: Name, dtype: object\n"
     ]
    }
   ],
   "source": [
    "data['Profit'] = data['Sale Revenue'] - data['Operational Cost']\n",
    "\n",
    "\n",
    "df_repr = data.groupby('Name').agg(\n",
    "    aver_revenue = ('Sale Revenue','mean'),\n",
    "    aver_profit = ('Profit','mean')\n",
    ").reset_index()\n",
    "\n",
    "#top 3 sale representatives with most average revenues gained\n",
    "print('Top 3 sale representatives with most average revenues gained')\n",
    "print(df_repr.sort_values('aver_revenue',ascending=False)['Name'].head(3),'\\n\\n')\n",
    "\n",
    "#top 3 sale representatives with most average profit gained\n",
    "print('Top 3 sale representatives with most average profit gained')\n",
    "print(df_repr.sort_values('aver_profit',ascending=False)['Name'].head(3))"
   ]
  },
  {
   "cell_type": "code",
   "execution_count": 12,
   "metadata": {},
   "outputs": [
    {
     "data": {
      "text/html": [
       "<div>\n",
       "<style scoped>\n",
       "    .dataframe tbody tr th:only-of-type {\n",
       "        vertical-align: middle;\n",
       "    }\n",
       "\n",
       "    .dataframe tbody tr th {\n",
       "        vertical-align: top;\n",
       "    }\n",
       "\n",
       "    .dataframe thead th {\n",
       "        text-align: right;\n",
       "    }\n",
       "</style>\n",
       "<table border=\"1\" class=\"dataframe\">\n",
       "  <thead>\n",
       "    <tr style=\"text-align: right;\">\n",
       "      <th></th>\n",
       "      <th>Time</th>\n",
       "      <th>City</th>\n",
       "      <th>State</th>\n",
       "      <th>total_revenue</th>\n",
       "      <th>total_operational_cost</th>\n",
       "      <th>total_profit</th>\n",
       "    </tr>\n",
       "  </thead>\n",
       "  <tbody>\n",
       "    <tr>\n",
       "      <th>0</th>\n",
       "      <td>2021-01-01</td>\n",
       "      <td>Chicago</td>\n",
       "      <td>IL</td>\n",
       "      <td>17320</td>\n",
       "      <td>8430</td>\n",
       "      <td>8890</td>\n",
       "    </tr>\n",
       "    <tr>\n",
       "      <th>1</th>\n",
       "      <td>2021-01-01</td>\n",
       "      <td>Miami</td>\n",
       "      <td>FL</td>\n",
       "      <td>7850</td>\n",
       "      <td>3240</td>\n",
       "      <td>4610</td>\n",
       "    </tr>\n",
       "    <tr>\n",
       "      <th>2</th>\n",
       "      <td>2021-01-01</td>\n",
       "      <td>Minnepolis</td>\n",
       "      <td>MN</td>\n",
       "      <td>23140</td>\n",
       "      <td>11760</td>\n",
       "      <td>11380</td>\n",
       "    </tr>\n",
       "    <tr>\n",
       "      <th>3</th>\n",
       "      <td>2021-01-01</td>\n",
       "      <td>San Diego</td>\n",
       "      <td>CA</td>\n",
       "      <td>32140</td>\n",
       "      <td>10300</td>\n",
       "      <td>21840</td>\n",
       "    </tr>\n",
       "    <tr>\n",
       "      <th>4</th>\n",
       "      <td>2021-01-01</td>\n",
       "      <td>Vancouver</td>\n",
       "      <td>BC</td>\n",
       "      <td>19240</td>\n",
       "      <td>10630</td>\n",
       "      <td>8610</td>\n",
       "    </tr>\n",
       "    <tr>\n",
       "      <th>5</th>\n",
       "      <td>2021-02-01</td>\n",
       "      <td>Austin</td>\n",
       "      <td>TX</td>\n",
       "      <td>31340</td>\n",
       "      <td>13240</td>\n",
       "      <td>18100</td>\n",
       "    </tr>\n",
       "    <tr>\n",
       "      <th>6</th>\n",
       "      <td>2021-02-01</td>\n",
       "      <td>Boston</td>\n",
       "      <td>MA</td>\n",
       "      <td>16320</td>\n",
       "      <td>9940</td>\n",
       "      <td>6380</td>\n",
       "    </tr>\n",
       "    <tr>\n",
       "      <th>7</th>\n",
       "      <td>2021-02-01</td>\n",
       "      <td>Los Angeles</td>\n",
       "      <td>CA</td>\n",
       "      <td>14260</td>\n",
       "      <td>9970</td>\n",
       "      <td>4290</td>\n",
       "    </tr>\n",
       "    <tr>\n",
       "      <th>8</th>\n",
       "      <td>2021-02-01</td>\n",
       "      <td>Phoenix</td>\n",
       "      <td>AZ</td>\n",
       "      <td>22490</td>\n",
       "      <td>18240</td>\n",
       "      <td>4250</td>\n",
       "    </tr>\n",
       "    <tr>\n",
       "      <th>9</th>\n",
       "      <td>2021-02-01</td>\n",
       "      <td>San Francisco</td>\n",
       "      <td>CA</td>\n",
       "      <td>29550</td>\n",
       "      <td>9780</td>\n",
       "      <td>19770</td>\n",
       "    </tr>\n",
       "    <tr>\n",
       "      <th>10</th>\n",
       "      <td>2021-02-01</td>\n",
       "      <td>Seattle</td>\n",
       "      <td>WA</td>\n",
       "      <td>14420</td>\n",
       "      <td>9880</td>\n",
       "      <td>4540</td>\n",
       "    </tr>\n",
       "    <tr>\n",
       "      <th>11</th>\n",
       "      <td>2021-03-01</td>\n",
       "      <td>Houston</td>\n",
       "      <td>TX</td>\n",
       "      <td>18990</td>\n",
       "      <td>13320</td>\n",
       "      <td>5670</td>\n",
       "    </tr>\n",
       "    <tr>\n",
       "      <th>12</th>\n",
       "      <td>2021-03-01</td>\n",
       "      <td>Phoenix</td>\n",
       "      <td>AZ</td>\n",
       "      <td>28130</td>\n",
       "      <td>13410</td>\n",
       "      <td>14720</td>\n",
       "    </tr>\n",
       "    <tr>\n",
       "      <th>13</th>\n",
       "      <td>2021-03-01</td>\n",
       "      <td>Portland</td>\n",
       "      <td>OR</td>\n",
       "      <td>21210</td>\n",
       "      <td>8430</td>\n",
       "      <td>12780</td>\n",
       "    </tr>\n",
       "    <tr>\n",
       "      <th>14</th>\n",
       "      <td>2021-03-01</td>\n",
       "      <td>San Francisco</td>\n",
       "      <td>CA</td>\n",
       "      <td>43240</td>\n",
       "      <td>20010</td>\n",
       "      <td>23230</td>\n",
       "    </tr>\n",
       "    <tr>\n",
       "      <th>15</th>\n",
       "      <td>2021-03-01</td>\n",
       "      <td>Toronto</td>\n",
       "      <td>ON</td>\n",
       "      <td>42310</td>\n",
       "      <td>10660</td>\n",
       "      <td>31650</td>\n",
       "    </tr>\n",
       "    <tr>\n",
       "      <th>16</th>\n",
       "      <td>2021-04-01</td>\n",
       "      <td>Atlanta</td>\n",
       "      <td>GA</td>\n",
       "      <td>12380</td>\n",
       "      <td>5110</td>\n",
       "      <td>7270</td>\n",
       "    </tr>\n",
       "    <tr>\n",
       "      <th>17</th>\n",
       "      <td>2021-04-01</td>\n",
       "      <td>Buffalo</td>\n",
       "      <td>NY</td>\n",
       "      <td>15110</td>\n",
       "      <td>11430</td>\n",
       "      <td>3680</td>\n",
       "    </tr>\n",
       "    <tr>\n",
       "      <th>18</th>\n",
       "      <td>2021-04-01</td>\n",
       "      <td>Houston</td>\n",
       "      <td>TX</td>\n",
       "      <td>14340</td>\n",
       "      <td>7300</td>\n",
       "      <td>7040</td>\n",
       "    </tr>\n",
       "    <tr>\n",
       "      <th>19</th>\n",
       "      <td>2021-04-01</td>\n",
       "      <td>Tucson</td>\n",
       "      <td>AZ</td>\n",
       "      <td>27560</td>\n",
       "      <td>19760</td>\n",
       "      <td>7800</td>\n",
       "    </tr>\n",
       "  </tbody>\n",
       "</table>\n",
       "</div>"
      ],
      "text/plain": [
       "         Time           City State  total_revenue  total_operational_cost   \n",
       "0  2021-01-01        Chicago    IL          17320                    8430  \\\n",
       "1  2021-01-01          Miami    FL           7850                    3240   \n",
       "2  2021-01-01     Minnepolis    MN          23140                   11760   \n",
       "3  2021-01-01      San Diego    CA          32140                   10300   \n",
       "4  2021-01-01      Vancouver    BC          19240                   10630   \n",
       "5  2021-02-01         Austin    TX          31340                   13240   \n",
       "6  2021-02-01         Boston    MA          16320                    9940   \n",
       "7  2021-02-01    Los Angeles    CA          14260                    9970   \n",
       "8  2021-02-01        Phoenix    AZ          22490                   18240   \n",
       "9  2021-02-01  San Francisco    CA          29550                    9780   \n",
       "10 2021-02-01        Seattle    WA          14420                    9880   \n",
       "11 2021-03-01        Houston    TX          18990                   13320   \n",
       "12 2021-03-01        Phoenix    AZ          28130                   13410   \n",
       "13 2021-03-01       Portland    OR          21210                    8430   \n",
       "14 2021-03-01  San Francisco    CA          43240                   20010   \n",
       "15 2021-03-01        Toronto    ON          42310                   10660   \n",
       "16 2021-04-01        Atlanta    GA          12380                    5110   \n",
       "17 2021-04-01        Buffalo    NY          15110                   11430   \n",
       "18 2021-04-01        Houston    TX          14340                    7300   \n",
       "19 2021-04-01         Tucson    AZ          27560                   19760   \n",
       "\n",
       "    total_profit  \n",
       "0           8890  \n",
       "1           4610  \n",
       "2          11380  \n",
       "3          21840  \n",
       "4           8610  \n",
       "5          18100  \n",
       "6           6380  \n",
       "7           4290  \n",
       "8           4250  \n",
       "9          19770  \n",
       "10          4540  \n",
       "11          5670  \n",
       "12         14720  \n",
       "13         12780  \n",
       "14         23230  \n",
       "15         31650  \n",
       "16          7270  \n",
       "17          3680  \n",
       "18          7040  \n",
       "19          7800  "
      ]
     },
     "execution_count": 12,
     "metadata": {},
     "output_type": "execute_result"
    }
   ],
   "source": [
    "data.groupby(['Time','City','State']).agg(\n",
    "    total_revenue = ('Sale Revenue','sum'),\n",
    "    total_operational_cost = ('Operational Cost','sum'),\n",
    "    total_profit = ('Profit','sum')\n",
    ").reset_index()"
   ]
  },
  {
   "attachments": {},
   "cell_type": "markdown",
   "metadata": {},
   "source": [
    "Part 2: SQL"
   ]
  },
  {
   "cell_type": "code",
   "execution_count": 13,
   "metadata": {},
   "outputs": [],
   "source": [
    "#1 .Given that all events are occured chronologically (in time order)\n",
    "\n",
    "sql1 = \"\"\"SELECT event from USER_EVENT order by date_time asc \"\"\"\n",
    "\n",
    "\n",
    "#1.1 how long does it take for user bruce to unlock second map?\n",
    "\n",
    "sql1_1 = \"\"\"--sql\n",
    "with t as (\n",
    "SELECT datetime, ROW_NUMBER() OVER(PARTITION BY user_name,evnet order by datetime asc) as row_n from USER_EVENT\n",
    "WHERE \n",
    "1 = 1 \n",
    "and user_name = 'bruce' and evnet = 'map_unclock' \n",
    "\n",
    "and (row_n = 1 or row_n = 2)\n",
    ")\n",
    "\n",
    "select max(datetime) - min(datetime) from t\n",
    "\"\"\"\n",
    "\n",
    "\n",
    "#1.2 How long does it take for user stein to make purchase after having sold his items?\n",
    "\n",
    "sql1_2 = \"\"\"--sql\n",
    "with t_sell as (\n",
    "select user_name, datetime as sell_dt from USER_EVENT\n",
    "WHERE 1= 1\n",
    "and event  = 'sell'\n",
    "),\n",
    "\n",
    "t_pur as (\n",
    "select user_name, datetime as purchase_dt from USER_EVENT\n",
    "WHERE 1= 1\n",
    "and event  = 'purcase'\n",
    ")\n",
    "\n",
    "\n",
    "select MIN(t_pur.purchase_dt - t_sell.sell_dt) from t_sell\n",
    "JOIN t_pur on t_pur.user_name = t_sell.user_name\n",
    "where t_pur.purchase_dt > t_sell.sell_dt\n",
    "\"\"\"\n"
   ]
  },
  {
   "cell_type": "code",
   "execution_count": 14,
   "metadata": {},
   "outputs": [],
   "source": [
    "#2/ How many users do we have for each platform?\n",
    "sql2 = \"\"\"--sql\n",
    "SELECT g.platform, count(distinct u.user_id) from USER_EVENT u\n",
    "left join  GAME_PROFILE g on g.game_id = u.game_id\n",
    "group by g.platfrom\n",
    "\"\"\"\n",
    "\n",
    "\n",
    "#3/ How many daily events do we have on average?\n",
    "sql3 = \"\"\"--sql\n",
    "witl t as (\n",
    "SELECT CAST(datetime as date) date_, count(event) as events from USER_EVENT\n",
    "group by CAST(datetime as date)\n",
    ")\n",
    "\n",
    "select  AVG(events) from t\n",
    "\n",
    "\"\"\"\n",
    "\n",
    "#4 How long have the games been launched?\n",
    "sql4 = \"\"\"--sql\n",
    "SELECT game_id,game_title, DATEDIFF(day,launch_date,CURRENT_DATE) as r_days from GAME_PROFILE\n",
    "\"\"\""
   ]
  },
  {
   "attachments": {},
   "cell_type": "markdown",
   "metadata": {},
   "source": [
    "Part 3: The Association of Used Car Dealers wants to study the maintenance costs for the first year after cars have come off the manufacturer’s warranty. How large a sample is needed when s = $575 and E = $100? Calculate the sample size using 90%, 95%, 98%, and 99% confidence levels."
   ]
  },
  {
   "cell_type": "code",
   "execution_count": 41,
   "metadata": {},
   "outputs": [
    {
     "data": {
      "text/html": [
       "<div>\n",
       "<style scoped>\n",
       "    .dataframe tbody tr th:only-of-type {\n",
       "        vertical-align: middle;\n",
       "    }\n",
       "\n",
       "    .dataframe tbody tr th {\n",
       "        vertical-align: top;\n",
       "    }\n",
       "\n",
       "    .dataframe thead th {\n",
       "        text-align: right;\n",
       "    }\n",
       "</style>\n",
       "<table border=\"1\" class=\"dataframe\">\n",
       "  <thead>\n",
       "    <tr style=\"text-align: right;\">\n",
       "      <th></th>\n",
       "      <th>Confidence_level</th>\n",
       "      <th>z_score</th>\n",
       "      <th>estimated_sample</th>\n",
       "    </tr>\n",
       "  </thead>\n",
       "  <tbody>\n",
       "    <tr>\n",
       "      <th>0</th>\n",
       "      <td>90%</td>\n",
       "      <td>1.65</td>\n",
       "      <td>90.012656</td>\n",
       "    </tr>\n",
       "    <tr>\n",
       "      <th>1</th>\n",
       "      <td>95%</td>\n",
       "      <td>1.96</td>\n",
       "      <td>127.012900</td>\n",
       "    </tr>\n",
       "    <tr>\n",
       "      <th>2</th>\n",
       "      <td>98%</td>\n",
       "      <td>2.33</td>\n",
       "      <td>179.493006</td>\n",
       "    </tr>\n",
       "    <tr>\n",
       "      <th>3</th>\n",
       "      <td>99%</td>\n",
       "      <td>2.58</td>\n",
       "      <td>220.077225</td>\n",
       "    </tr>\n",
       "  </tbody>\n",
       "</table>\n",
       "</div>"
      ],
      "text/plain": [
       "  Confidence_level  z_score  estimated_sample\n",
       "0              90%     1.65         90.012656\n",
       "1              95%     1.96        127.012900\n",
       "2              98%     2.33        179.493006\n",
       "3              99%     2.58        220.077225"
      ]
     },
     "execution_count": 41,
     "metadata": {},
     "output_type": "execute_result"
    }
   ],
   "source": [
    "df = pd.DataFrame({'Confidence_level':['90%','95%','98%','99%'],'z_score':[1.65,1.96,2.33,2.58]})\n",
    "\n",
    "\n",
    "def get_sample(z_score,s= 575, e = 100):\n",
    "    n = (z_score * s / e)**2\n",
    "    return n\n",
    "\n",
    "df['estimated_sample'] = df['z_score'].apply(get_sample)\n",
    "df\n",
    "    "
   ]
  },
  {
   "attachments": {},
   "cell_type": "markdown",
   "metadata": {},
   "source": [
    "Part 4: \n",
    "A poker-dealing machine is supposed to deal cards at random, as if from an infinite deck. In a test, you counted 1600 cards, and observed the following:\n",
    "Spades: 404 Hearts: 420 Diamonds: 400 Clubs : 376\n",
    "Could it be that the suits are equally likely? Or are these discrepancies too much to be random?\n"
   ]
  },
  {
   "attachments": {},
   "cell_type": "markdown",
   "metadata": {},
   "source": [
    "\\begin{gather*}\n",
    "H_0: P_s = P_h = P_d = P_c\\\\\n",
    "H_1: P_s <> P_h <> P_d <> P_c\n",
    "\\end{gather*}"
   ]
  },
  {
   "cell_type": "code",
   "execution_count": 15,
   "metadata": {},
   "outputs": [],
   "source": [
    "data4 = pd.DataFrame({'Cards':['Spade','Heart','Diamond','Club'],'O':[404,420,400,376]})"
   ]
  },
  {
   "cell_type": "code",
   "execution_count": 40,
   "metadata": {},
   "outputs": [
    {
     "name": "stdout",
     "output_type": "stream",
     "text": [
      "chi-square:  2.48\n",
      "critical value:  7.814727903251179\n",
      "2.48  <  7.814727903251179\n",
      "Answer: It's that the suits are equally likely\n"
     ]
    }
   ],
   "source": [
    "data4['E'] = 400\n",
    "\n",
    "def get_z(x):\n",
    "    o = x[0]\n",
    "    e = x[1]\n",
    "    z = (o-e)/np.sqrt(e)\n",
    "    return z\n",
    "data4['Z'] = data4[['O','E']].apply(get_z,axis = 1)\n",
    "chi_square = sum(data4['Z']**2)\n",
    "print('chi-square: ', chi_square)\n",
    "\n",
    "\n",
    "cr_value = stat.chi2.ppf(1-.05,3)\n",
    "print('critical value: ', cr_value)\n",
    "\n",
    "if chi_square > cr_value:\n",
    "    print(chi_square, \" > \",cr_value)\n",
    "    print('Answer: these are discrepancies too much to be random')\n",
    "else: \n",
    "    print(chi_square, \" < \",cr_value)\n",
    "    print(r\"Answer: It's that the suits are equally likely\")\n"
   ]
  },
  {
   "cell_type": "code",
   "execution_count": 28,
   "metadata": {},
   "outputs": [
    {
     "data": {
      "text/plain": [
       "2.48"
      ]
     },
     "execution_count": 28,
     "metadata": {},
     "output_type": "execute_result"
    }
   ],
   "source": []
  },
  {
   "attachments": {},
   "cell_type": "markdown",
   "metadata": {},
   "source": [
    "Part 5:"
   ]
  },
  {
   "attachments": {},
   "cell_type": "markdown",
   "metadata": {},
   "source": [
    "constraints:\n",
    "- 50x + 24y <=  2400 (1)\n",
    "- 24x + 33y <=  2100 (2)\n",
    "- x >= 75 - 30 (3)\n",
    "- y >= 95 - 90 (4)\n",
    "The objective is: maximise (x+30-75) + (y+90-95) = (x+y-50)\n"
   ]
  },
  {
   "cell_type": "code",
   "execution_count": 16,
   "metadata": {},
   "outputs": [
    {
     "data": {
      "image/png": "[encoded data removed]",
      "text/plain": [
       "<Figure size 640x480 with 1 Axes>"
      ]
     },
     "metadata": {},
     "output_type": "display_data"
    }
   ],
   "source": [
    "\n",
    "\n",
    "x = np.linspace(-1, 50, 200)\n",
    "y1 = (2400 - 50*x) / 24\n",
    "plt.plot(x, y1, 'b', label ='50x + 24y = 2400')\n",
    "\n",
    "y2 = (2100 - 24*x)/33\n",
    "plt.plot(x, y2, 'r-.', label ='24x + 33y = 2100')\n",
    "\n",
    "\n",
    "plt.axvline(x = 45)\n",
    "plt.axhline(y=5)\n",
    "\n",
    "plt.ylim(0,60)\n",
    "plt.legend()\n",
    "plt.grid(True, linestyle =':')"
   ]
  },
  {
   "attachments": {},
   "cell_type": "markdown",
   "metadata": {},
   "source": [
    "Feasible region has 3 point with (45; 5), (45 ; 6.25) and (45.6 ; 5). With x = 45 and y = 6.25\n",
    "> With x = 45 and y = 6.25, we have the maximum value of the equation *x + y - 50*"
   ]
  }
 ],
 "metadata": {
  "kernelspec": {
   "display_name": "Python 3",
   "language": "python",
   "name": "python3"
  },
  "language_info": {
   "codemirror_mode": {
    "name": "ipython",
    "version": 3
   },
   "file_extension": ".py",
   "mimetype": "text/x-python",
   "name": "python",
   "nbconvert_exporter": "python",
   "pygments_lexer": "ipython3",
   "version": "3.10.11"
  },
  "orig_nbformat": 4
 },
 "nbformat": 4,
 "nbformat_minor": 2
}
